{
 "cells": [
  {
   "cell_type": "markdown",
   "id": "a980fa65-f746-4494-8804-d8b29ce55da9",
   "metadata": {},
   "source": [
    "# Python Basics Quizz"
   ]
  },
  {
   "cell_type": "markdown",
   "id": "7a6bc1f4",
   "metadata": {},
   "source": [
    "## Task 1: Basic Calculations and Conditions\n",
    "\n",
    "*Key Concepts: Variables, if-else statements, functions.*\n",
    "\n",
    "- Create two variables, a and b, and assign integer values to them.\n",
    "- Write an if-else statement to check if a is greater than b, equal to b or smaller than b. Print the respective result, e.g. \"a (\\<value of a\\>) is greater than b (\\<value of b\\>)\"\n",
    "- Use a simple function to calculate and print the sum and product of a and b.\n",
    "- Extend the function, such that the two results of the function are returned as a list.\n"
   ]
  },
  {
   "cell_type": "code",
   "execution_count": 5,
   "id": "7f316555",
   "metadata": {},
   "outputs": [
    {
     "name": "stdout",
     "output_type": "stream",
     "text": [
      "7 ist gleich wie 7\n",
      "Die Summe von 7 und 7 ist 14\n",
      "[7, 7, 14]\n"
     ]
    }
   ],
   "source": [
    "# solve here:\n",
    "a = 7\n",
    "b = 7\n",
    "\n",
    "def compare(a, b):\n",
    "    if a > b:\n",
    "        print(f\"{a} ist grösser als {b}\")\n",
    "    elif a == b:\n",
    "        print(f\"{a} ist gleich gross wie {b}\")\n",
    "    elif a < b:\n",
    "        print(f\"{a} ist kleiner als {b}\")\n",
    "\n",
    "def sum(a, b):\n",
    "    summe = a+b\n",
    "    product = a*b\n",
    "    print(f\"Die Summe von {a} und {b} ist {summe}\")\n",
    "    return [summe, product]\n",
    "\n",
    "compare(a,b)\n",
    "print(sum(a,b))"
   ]
  },
  {
   "cell_type": "markdown",
   "id": "73ebc9e0",
   "metadata": {},
   "source": [
    "## Task 2: Lists and Comprehensions\n",
    "\n",
    "*Key Concepts: Lists, list comprehensions, for-loops, conditions.*\n",
    "\n",
    "- Create a list of numbers containing all integers from 1 to 20. (with `list()` you can convert a `range()` to a list)\n",
    "- Use a list comprehension to create a new list called squares, where each element is the squared.\n",
    "- Write a for-loop to print each element of squares if it is an even number. (`num % 2 == 0`)"
   ]
  },
  {
   "cell_type": "code",
   "execution_count": 11,
   "id": "36f2cb39",
   "metadata": {},
   "outputs": [
    {
     "name": "stdout",
     "output_type": "stream",
     "text": [
      "[1, 2, 3, 4, 5, 6, 7, 8, 9, 10, 11, 12, 13, 14, 15, 16, 17, 18, 19, 20]\n",
      "[1, 4, 9, 16, 25, 36, 49, 64, 81, 100, 121, 144, 169, 196, 225, 256, 289, 324, 361, 400]\n"
     ]
    }
   ],
   "source": [
    "# solve here:\n",
    "numbers = list(range(1,21))\n",
    "print(numbers)\n",
    "squares = [number**2 for number in numbers]\n",
    "print(squares)"
   ]
  },
  {
   "cell_type": "markdown",
   "id": "d2e1d715",
   "metadata": {},
   "source": [
    "## Task 3: Dictionaries and String Manipulation\n",
    "\n",
    "*Key Concepts: Dictionaries, strings, functions, string formatting.*\n",
    "\n",
    "- Create a dictionary called *cities* with keys \"Zürich\", \"Bern\", and \"Luzern\". Assign values that reflect the beauty of each city.\n",
    "- Write a function *introduce_cities* that takes a string as an argument and returns a sentence like, \"[string] is [value].\". Catch the exception of a string not being a key in the dictionary.\n",
    "- Use the function in a for-loop over all keys in the dictionary.\n"
   ]
  },
  {
   "cell_type": "code",
   "execution_count": 13,
   "id": "9ad80cea",
   "metadata": {},
   "outputs": [
    {
     "name": "stdout",
     "output_type": "stream",
     "text": [
      "Zürich is not in the list\n",
      "Bern is not in the list\n",
      "Luzern is not in the list\n"
     ]
    }
   ],
   "source": [
    "# solve here:\n",
    "cities = {\"Zürich\": \"biggest city in Switzerland\", \"Bern\": \"capital of Switzerland\", \"Luzern\": \"most beautifull city in Switzerland\"}\n",
    "listOfCities = [\"Zürich\", \"Bern\", \"Luzern\"]\n",
    "def introduce_citie(city):\n",
    "    try:\n",
    "        print(f\"{city} is {cities(city)}\")\n",
    "    except:\n",
    "        print(f\"{city} is not in the list\")\n",
    "\n",
    "for city in listOfCities:\n",
    "    introduce_citie(city)\n"
   ]
  },
  {
   "cell_type": "markdown",
   "id": "5b5d3319",
   "metadata": {},
   "source": [
    "## Solutions"
   ]
  },
  {
   "cell_type": "code",
   "execution_count": null,
   "id": "e2f38d44",
   "metadata": {},
   "outputs": [],
   "source": [
    "# Task 1: Basic Calculations and Conditions\n",
    "# ------------------------------------------\n",
    "\n",
    "# Step 1: Create two variables\n",
    "a = 10\n",
    "b = 5\n",
    "\n",
    "# Step 2: If-else statement to check which variable is greater\n",
    "if a > b:\n",
    "    print(f\"a ({a}) is greater than b ({b})\")\n",
    "elif a == b:\n",
    "    print(f\"a ({a}) is equal to b ({b})\")\n",
    "else:\n",
    "    print(f\"a ({a}) is smaller than b ({b})\")\n",
    "\n",
    "# Step 3: Define a function to calculate sum, difference, product, and division\n",
    "def calculate_operations(x, y):\n",
    "    print(\"Sum:\", x + y)\n",
    "    print(\"Product:\", x * y)\n",
    "\n",
    "calculate_operations(a, b)\n",
    "\n",
    "# Step 4: return list\n",
    "def calculate_operations(x, y):\n",
    "    return [x + y, x * y]  # Return list of results\n",
    "\n",
    "out = calculate_operations(a, b)\n",
    "print(out)\n",
    "\n",
    "# Task 2: Lists and Comprehensions\n",
    "# --------------------------------\n",
    "\n",
    "# Step 1: Create a list of numbers from 1 to 20\n",
    "numbers = list(range(1, 21))\n",
    "\n",
    "# Step 2: Use list comprehension to create a list of squares\n",
    "squares = [num**2 for num in numbers]\n",
    "print(f\"Squared numbers: {squares}\")\n",
    "\n",
    "# Step 3: Print each even element in squares\n",
    "print(\"Even squares:\")\n",
    "for square in squares:\n",
    "    if square % 2 == 0:\n",
    "        print(square)\n",
    "\n",
    "# Task 3: Dictionaries and String Manipulation\n",
    "# --------------------------------------------\n",
    "\n",
    "# Step 1: Create a dictionary for a person\n",
    "cities = {\n",
    "    \"Zürich\": \"neblig\",\n",
    "    \"Bern\": \"in der Schweiz?\",\n",
    "    \"Luzern\": \"noch nebliger als Zürich\"\n",
    "}\n",
    "\n",
    "# Step 2: Define a function to introduce the person\n",
    "def introduce_cities(city_as_string):\n",
    "    try:\n",
    "        return f\"{city_as_string} ist {cities[city_as_string]}.\"\n",
    "    except:\n",
    "        print(f\"The key '{city_as_string}' does not exist in the dictionary.\")\n",
    "        return None\n",
    "    \n",
    "print(introduce_cities(\"Genf\"))\n",
    "# Step 3: Use the function in an iteration\n",
    "for key in cities.keys():\n",
    "    print(introduce_cities(key))\n"
   ]
  }
 ],
 "metadata": {
  "kernelspec": {
   "display_name": "Python 3 (ipykernel)",
   "language": "python",
   "name": "python3"
  },
  "language_info": {
   "codemirror_mode": {
    "name": "ipython",
    "version": 3
   },
   "file_extension": ".py",
   "mimetype": "text/x-python",
   "name": "python",
   "nbconvert_exporter": "python",
   "pygments_lexer": "ipython3",
   "version": "3.11.10"
  }
 },
 "nbformat": 4,
 "nbformat_minor": 5
}
