{
 "cells": [
  {
   "cell_type": "code",
   "execution_count": 5,
   "id": "88fd5e1b-d9c6-4044-a375-be6d14001243",
   "metadata": {},
   "outputs": [],
   "source": [
    "import pandas as pd\n",
    "\n",
    "data = pd.read_csv(\"sid_dav_verkehrszaehlung_miv_od2031_2023.csv\", sep=\",\", encoding=\"utf-8\", low_memory=False)"
   ]
  },
  {
   "cell_type": "code",
   "execution_count": 6,
   "id": "15876926-887c-4f4b-8133-87dc8516c315",
   "metadata": {},
   "outputs": [
    {
     "name": "stdout",
     "output_type": "stream",
     "text": [
      "<class 'pandas.core.frame.DataFrame'>\n",
      "RangeIndex: 1612474 entries, 0 to 1612473\n",
      "Data columns (total 21 columns):\n",
      " #   Column              Non-Null Count    Dtype  \n",
      "---  ------              --------------    -----  \n",
      " 0   MSID                1612474 non-null  object \n",
      " 1   MSName              1612474 non-null  object \n",
      " 2   ZSID                1612474 non-null  object \n",
      " 3   ZSName              1612474 non-null  object \n",
      " 4   Achse               1612474 non-null  object \n",
      " 5   HNr                 1612474 non-null  object \n",
      " 6   Hoehe               1612474 non-null  object \n",
      " 7   EKoord              1612474 non-null  float64\n",
      " 8   NKoord              1612474 non-null  float64\n",
      " 9   Richtung            1612474 non-null  object \n",
      " 10  Knummer             1612474 non-null  int64  \n",
      " 11  Kname               1612474 non-null  object \n",
      " 12  AnzDetektoren       1612474 non-null  int64  \n",
      " 13  D1ID                1612474 non-null  int64  \n",
      " 14  D2ID                1612474 non-null  object \n",
      " 15  D3ID                1612474 non-null  object \n",
      " 16  D4ID                1612474 non-null  object \n",
      " 17  MessungDatZeit      1612474 non-null  object \n",
      " 18  LieferDat           1612474 non-null  object \n",
      " 19  AnzFahrzeuge        1523313 non-null  float64\n",
      " 20  AnzFahrzeugeStatus  1612474 non-null  object \n",
      "dtypes: float64(3), int64(3), object(15)\n",
      "memory usage: 258.3+ MB\n"
     ]
    }
   ],
   "source": [
    "data.info()\n"
   ]
  },
  {
   "cell_type": "code",
   "execution_count": 7,
   "id": "f746eef9-78bb-4b5f-8241-61fc867ac957",
   "metadata": {
    "scrolled": true
   },
   "outputs": [
    {
     "data": {
      "text/plain": [
       "MSID                      0\n",
       "MSName                    0\n",
       "ZSID                      0\n",
       "ZSName                    0\n",
       "Achse                     0\n",
       "HNr                       0\n",
       "Hoehe                     0\n",
       "EKoord                    0\n",
       "NKoord                    0\n",
       "Richtung                  0\n",
       "Knummer                   0\n",
       "Kname                     0\n",
       "AnzDetektoren             0\n",
       "D1ID                      0\n",
       "D2ID                      0\n",
       "D3ID                      0\n",
       "D4ID                      0\n",
       "MessungDatZeit            0\n",
       "LieferDat                 0\n",
       "AnzFahrzeuge          89161\n",
       "AnzFahrzeugeStatus        0\n",
       "dtype: int64"
      ]
     },
     "execution_count": 7,
     "metadata": {},
     "output_type": "execute_result"
    }
   ],
   "source": [
    "data.isna().sum(axis=0)"
   ]
  },
  {
   "cell_type": "code",
   "execution_count": null,
   "id": "e155a559-67c6-427f-ad72-550ee6818c8b",
   "metadata": {},
   "outputs": [],
   "source": []
  }
 ],
 "metadata": {
  "kernelspec": {
   "display_name": "Python 3 (ipykernel)",
   "language": "python",
   "name": "python3"
  },
  "language_info": {
   "codemirror_mode": {
    "name": "ipython",
    "version": 3
   },
   "file_extension": ".py",
   "mimetype": "text/x-python",
   "name": "python",
   "nbconvert_exporter": "python",
   "pygments_lexer": "ipython3",
   "version": "3.11.10"
  }
 },
 "nbformat": 4,
 "nbformat_minor": 5
}
